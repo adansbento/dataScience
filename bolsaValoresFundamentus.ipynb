{
  "nbformat": 4,
  "nbformat_minor": 0,
  "metadata": {
    "colab": {
      "name": "bolsaValoresFundamentus.ipynb",
      "provenance": [],
      "collapsed_sections": [],
      "toc_visible": true,
      "authorship_tag": "ABX9TyOOnfV62QgaFlbRGl6jm0sB",
      "include_colab_link": true
    },
    "kernelspec": {
      "name": "python3",
      "display_name": "Python 3"
    },
    "language_info": {
      "name": "python"
    }
  },
  "cells": [
    {
      "cell_type": "markdown",
      "metadata": {
        "id": "view-in-github",
        "colab_type": "text"
      },
      "source": [
        "<a href=\"https://colab.research.google.com/github/adansbento/dataScience/blob/master/bolsaValoresFundamentus.ipynb\" target=\"_parent\"><img src=\"https://colab.research.google.com/assets/colab-badge.svg\" alt=\"Open In Colab\"/></a>"
      ]
    },
    {
      "cell_type": "markdown",
      "metadata": {
        "id": "5mVhmsSOJEIw"
      },
      "source": [
        "Ler o Html e converte dataFrame"
      ]
    },
    {
      "cell_type": "code",
      "metadata": {
        "id": "cNYq2X_IOCPc",
        "colab": {
          "base_uri": "https://localhost:8080/"
        },
        "outputId": "b1c48bab-9119-4daf-e43e-080beb8067e0"
      },
      "source": [
        "import time\n",
        "import pandas as pd\n",
        "import numpy as np\n",
        "\n",
        "df = pd.read_html('resultado.html',thousands='.',decimal=',')\n",
        "df = df[0]\n",
        "len(df)"
      ],
      "execution_count": null,
      "outputs": [
        {
          "output_type": "execute_result",
          "data": {
            "text/plain": [
              "463"
            ]
          },
          "metadata": {
            "tags": []
          },
          "execution_count": 1
        }
      ]
    },
    {
      "cell_type": "markdown",
      "metadata": {
        "id": "Njs_XTYNuHkC"
      },
      "source": [
        "Remover crescimento 5Y negativo"
      ]
    },
    {
      "cell_type": "code",
      "metadata": {
        "colab": {
          "base_uri": "https://localhost:8080/"
        },
        "id": "UZ-9G5jtuODr",
        "outputId": "8012121e-42b4-4fbd-aafb-8f0fb2cdbe5a"
      },
      "source": [
        "df = df[df['CrescRec5a'] > 0]\n",
        "len(df)"
      ],
      "execution_count": null,
      "outputs": [
        {
          "output_type": "execute_result",
          "data": {
            "text/plain": [
              "293"
            ]
          },
          "metadata": {
            "tags": []
          },
          "execution_count": 2
        }
      ]
    },
    {
      "cell_type": "markdown",
      "metadata": {
        "id": "ASxgsIaSucgz"
      },
      "source": [
        "Remover Movimentações menor que 100000 reais "
      ]
    },
    {
      "cell_type": "code",
      "metadata": {
        "colab": {
          "base_uri": "https://localhost:8080/"
        },
        "id": "1TyCIqxYujgB",
        "outputId": "f1c91c56-418b-4944-e7ed-7f3e3253453e"
      },
      "source": [
        "df = df[df['Liq2meses'] > 100000]\n",
        "len(df)"
      ],
      "execution_count": null,
      "outputs": [
        {
          "output_type": "execute_result",
          "data": {
            "text/plain": [
              "214"
            ]
          },
          "metadata": {
            "tags": []
          },
          "execution_count": 3
        }
      ]
    },
    {
      "cell_type": "markdown",
      "metadata": {
        "id": "_woL0_kQQMu0"
      },
      "source": [
        "Remove P/L negativo"
      ]
    },
    {
      "cell_type": "code",
      "metadata": {
        "id": "119xX2R_QQXN",
        "colab": {
          "base_uri": "https://localhost:8080/"
        },
        "outputId": "9ce20ba0-565e-47eb-b5d3-ad0105aed908"
      },
      "source": [
        "\n",
        "df = df[df['PL'] > 0]\n",
        "len(df)"
      ],
      "execution_count": null,
      "outputs": [
        {
          "output_type": "execute_result",
          "data": {
            "text/plain": [
              "180"
            ]
          },
          "metadata": {
            "tags": []
          },
          "execution_count": 4
        }
      ]
    },
    {
      "cell_type": "markdown",
      "metadata": {
        "id": "XnzF6e9ka-yr"
      },
      "source": [
        "REMOVE ROE negativo\n"
      ]
    },
    {
      "cell_type": "code",
      "metadata": {
        "id": "YP2A2_vPbBuZ",
        "colab": {
          "base_uri": "https://localhost:8080/"
        },
        "outputId": "0d3059d2-4d5f-46d4-9740-b81f82ead867"
      },
      "source": [
        "df['ROE'] = pd.to_numeric(df['ROE'].replace(',', '.', regex=True).astype(float))\n",
        "df = df[df['ROE'] > 0]\n",
        "len(df)"
      ],
      "execution_count": null,
      "outputs": [
        {
          "output_type": "execute_result",
          "data": {
            "text/plain": [
              "176"
            ]
          },
          "metadata": {
            "tags": []
          },
          "execution_count": 5
        }
      ]
    },
    {
      "cell_type": "markdown",
      "metadata": {
        "id": "OXKMBSH-Q93r"
      },
      "source": [
        "Criar Score P/L , ordenar o PL do menor para o menor e colocar um numero ordinal"
      ]
    },
    {
      "cell_type": "code",
      "metadata": {
        "id": "o1U8A6XjRYIB",
        "colab": {
          "base_uri": "https://localhost:8080/"
        },
        "outputId": "f475d438-8ba5-4881-f80f-21e0ea1bd0f7"
      },
      "source": [
        "df_teste = df.sort_values(['PL'], ascending= False)\n",
        "scorePL = np.arange(0, len(df_teste))\n",
        "df_teste.insert(0,'score_PL',scorePL)\n",
        "df = df_teste\n",
        "len(df)"
      ],
      "execution_count": null,
      "outputs": [
        {
          "output_type": "execute_result",
          "data": {
            "text/plain": [
              "176"
            ]
          },
          "metadata": {
            "tags": []
          },
          "execution_count": 6
        }
      ]
    },
    {
      "cell_type": "markdown",
      "metadata": {
        "id": "0DRWr39saDmE"
      },
      "source": [
        "Criar Score ROE, Ordernar por ROE quanto maior melhor e colocar o score Ordinal"
      ]
    },
    {
      "cell_type": "code",
      "metadata": {
        "id": "byKhu5JthYOZ",
        "colab": {
          "base_uri": "https://localhost:8080/"
        },
        "outputId": "3483b91e-5f43-4732-e509-fc921e6cefca"
      },
      "source": [
        "df_teste = df.sort_values(['ROE'], ascending= True)\n",
        "scoreRoe = np.arange(0, len(df_teste))\n",
        "df_teste.insert(0,'score_ROE',scoreRoe)\n",
        "df = df_teste\n",
        "len(df)"
      ],
      "execution_count": null,
      "outputs": [
        {
          "output_type": "execute_result",
          "data": {
            "text/plain": [
              "176"
            ]
          },
          "metadata": {
            "tags": []
          },
          "execution_count": 7
        }
      ]
    },
    {
      "cell_type": "markdown",
      "metadata": {
        "id": "vyDX_SOLI9gE"
      },
      "source": [
        ""
      ]
    },
    {
      "cell_type": "code",
      "metadata": {
        "colab": {
          "base_uri": "https://localhost:8080/"
        },
        "id": "4a7ClxSMaPQ2",
        "outputId": "13b49016-3c6d-4178-fc71-4d735bb360ec"
      },
      "source": [
        "df_teste = df.sort_values(['MrgLiq'], ascending= True)\n",
        "score_Margem_Liq = np.arange(0, len(df_teste))\n",
        "df_teste.insert(0,'score_Margem_Liq',score_Margem_Liq)\n",
        "df = df_teste\n",
        "len(df)"
      ],
      "execution_count": null,
      "outputs": [
        {
          "output_type": "execute_result",
          "data": {
            "text/plain": [
              "176"
            ]
          },
          "metadata": {
            "tags": []
          },
          "execution_count": 8
        }
      ]
    },
    {
      "cell_type": "markdown",
      "metadata": {
        "id": "9ro59hAOifWm"
      },
      "source": [
        "Criar score Yeld"
      ]
    },
    {
      "cell_type": "code",
      "metadata": {
        "id": "whzNJlAeikKp",
        "colab": {
          "base_uri": "https://localhost:8080/"
        },
        "outputId": "e6d7d8d7-e355-4983-f355-e6f915f6f3b9"
      },
      "source": [
        "df_teste = df.sort_values(['DivYield'], ascending= True)\n",
        "score_Div_Yield = np.arange(0, len(df_teste))\n",
        "df_teste.insert(0,'score_Div_Yield',score_Div_Yield)\n",
        "df = df_teste\n",
        "len(df)"
      ],
      "execution_count": null,
      "outputs": [
        {
          "output_type": "execute_result",
          "data": {
            "text/plain": [
              "176"
            ]
          },
          "metadata": {
            "tags": []
          },
          "execution_count": 9
        }
      ]
    },
    {
      "cell_type": "markdown",
      "metadata": {
        "id": "ahLg0KSsvItk"
      },
      "source": [
        "Somar os score e ordenar por maior pontuacao "
      ]
    },
    {
      "cell_type": "code",
      "metadata": {
        "id": "lx3ZwHjzvSRP"
      },
      "source": [
        "df['score_total'] = df['score_Div_Yield'] + df['score_Margem_Liq']+ df['score_ROE']"
      ],
      "execution_count": null,
      "outputs": []
    },
    {
      "cell_type": "markdown",
      "metadata": {
        "id": "O6gUBUDHwNmB"
      },
      "source": [
        "Ordernar Score total"
      ]
    },
    {
      "cell_type": "code",
      "metadata": {
        "id": "1D4flB-FwPv4"
      },
      "source": [
        "df = df.sort_values(['score_total'], ascending= False)"
      ],
      "execution_count": null,
      "outputs": []
    },
    {
      "cell_type": "markdown",
      "metadata": {
        "id": "Y-AkYpUYFa4I"
      },
      "source": [
        "Remover papel duplicado ou de classe diferentes\n"
      ]
    },
    {
      "cell_type": "code",
      "metadata": {
        "id": "KX4fsavdFj7q"
      },
      "source": [
        "df = df.drop_duplicates(subset=['PatrimLiq','CrescRec5a'], keep='first')"
      ],
      "execution_count": null,
      "outputs": []
    },
    {
      "cell_type": "code",
      "metadata": {
        "colab": {
          "base_uri": "https://localhost:8080/",
          "height": 999
        },
        "id": "LP5uoSkXyBGp",
        "outputId": "48547538-df36-4d9f-9943-6f3c78429a06"
      },
      "source": [
        "df.head(30)"
      ],
      "execution_count": null,
      "outputs": [
        {
          "output_type": "execute_result",
          "data": {
            "text/html": [
              "<div>\n",
              "<style scoped>\n",
              "    .dataframe tbody tr th:only-of-type {\n",
              "        vertical-align: middle;\n",
              "    }\n",
              "\n",
              "    .dataframe tbody tr th {\n",
              "        vertical-align: top;\n",
              "    }\n",
              "\n",
              "    .dataframe thead th {\n",
              "        text-align: right;\n",
              "    }\n",
              "</style>\n",
              "<table border=\"1\" class=\"dataframe\">\n",
              "  <thead>\n",
              "    <tr style=\"text-align: right;\">\n",
              "      <th></th>\n",
              "      <th>score_Div_Yield</th>\n",
              "      <th>score_Margem_Liq</th>\n",
              "      <th>score_ROE</th>\n",
              "      <th>score_PL</th>\n",
              "      <th>Papel</th>\n",
              "      <th>Cotacao</th>\n",
              "      <th>PL</th>\n",
              "      <th>PVP</th>\n",
              "      <th>PSR</th>\n",
              "      <th>DivYield</th>\n",
              "      <th>PAtivo</th>\n",
              "      <th>PCapGiro</th>\n",
              "      <th>PEBIT</th>\n",
              "      <th>PAtivCircLiq</th>\n",
              "      <th>EVEBIT</th>\n",
              "      <th>EVEBITDA</th>\n",
              "      <th>MrgEbit</th>\n",
              "      <th>MrgLiq</th>\n",
              "      <th>LiqCorr</th>\n",
              "      <th>ROIC</th>\n",
              "      <th>ROE</th>\n",
              "      <th>Liq2meses</th>\n",
              "      <th>PatrimLiq</th>\n",
              "      <th>DivBrutPatrim</th>\n",
              "      <th>CrescRec5a</th>\n",
              "      <th>score_total</th>\n",
              "    </tr>\n",
              "  </thead>\n",
              "  <tbody>\n",
              "    <tr>\n",
              "      <th>159</th>\n",
              "      <td>167</td>\n",
              "      <td>168</td>\n",
              "      <td>157</td>\n",
              "      <td>158</td>\n",
              "      <td>TAEE11</td>\n",
              "      <td>40.63</td>\n",
              "      <td>5.70</td>\n",
              "      <td>2.12</td>\n",
              "      <td>3.704</td>\n",
              "      <td>11.48</td>\n",
              "      <td>0.932</td>\n",
              "      <td>8.12</td>\n",
              "      <td>5.33</td>\n",
              "      <td>-2.41</td>\n",
              "      <td>7.41</td>\n",
              "      <td>7.36</td>\n",
              "      <td>69.43</td>\n",
              "      <td>64.95</td>\n",
              "      <td>2.93</td>\n",
              "      <td>18.85</td>\n",
              "      <td>37.20</td>\n",
              "      <td>9.467500e+07</td>\n",
              "      <td>6.598210e+09</td>\n",
              "      <td>0.98</td>\n",
              "      <td>32.43</td>\n",
              "      <td>492</td>\n",
              "    </tr>\n",
              "    <tr>\n",
              "      <th>149</th>\n",
              "      <td>170</td>\n",
              "      <td>165</td>\n",
              "      <td>145</td>\n",
              "      <td>163</td>\n",
              "      <td>CYRE3</td>\n",
              "      <td>24.40</td>\n",
              "      <td>5.07</td>\n",
              "      <td>1.71</td>\n",
              "      <td>2.401</td>\n",
              "      <td>11.90</td>\n",
              "      <td>0.837</td>\n",
              "      <td>2.47</td>\n",
              "      <td>15.85</td>\n",
              "      <td>19.75</td>\n",
              "      <td>17.13</td>\n",
              "      <td>16.10</td>\n",
              "      <td>15.15</td>\n",
              "      <td>48.97</td>\n",
              "      <td>2.78</td>\n",
              "      <td>6.43</td>\n",
              "      <td>33.79</td>\n",
              "      <td>1.295970e+08</td>\n",
              "      <td>5.696170e+09</td>\n",
              "      <td>0.47</td>\n",
              "      <td>10.74</td>\n",
              "      <td>480</td>\n",
              "    </tr>\n",
              "    <tr>\n",
              "      <th>151</th>\n",
              "      <td>169</td>\n",
              "      <td>171</td>\n",
              "      <td>130</td>\n",
              "      <td>162</td>\n",
              "      <td>CESP3</td>\n",
              "      <td>28.53</td>\n",
              "      <td>5.22</td>\n",
              "      <td>1.33</td>\n",
              "      <td>4.640</td>\n",
              "      <td>11.81</td>\n",
              "      <td>0.643</td>\n",
              "      <td>1160.42</td>\n",
              "      <td>16.41</td>\n",
              "      <td>-1.51</td>\n",
              "      <td>18.13</td>\n",
              "      <td>10.71</td>\n",
              "      <td>28.28</td>\n",
              "      <td>88.93</td>\n",
              "      <td>1.01</td>\n",
              "      <td>4.20</td>\n",
              "      <td>25.40</td>\n",
              "      <td>4.036270e+05</td>\n",
              "      <td>7.050480e+09</td>\n",
              "      <td>0.26</td>\n",
              "      <td>6.49</td>\n",
              "      <td>470</td>\n",
              "    </tr>\n",
              "    <tr>\n",
              "      <th>303</th>\n",
              "      <td>161</td>\n",
              "      <td>166</td>\n",
              "      <td>142</td>\n",
              "      <td>85</td>\n",
              "      <td>EMAE4</td>\n",
              "      <td>89.00</td>\n",
              "      <td>13.95</td>\n",
              "      <td>4.30</td>\n",
              "      <td>7.137</td>\n",
              "      <td>9.66</td>\n",
              "      <td>2.190</td>\n",
              "      <td>9.71</td>\n",
              "      <td>20.65</td>\n",
              "      <td>-13.58</td>\n",
              "      <td>19.05</td>\n",
              "      <td>18.36</td>\n",
              "      <td>34.56</td>\n",
              "      <td>51.17</td>\n",
              "      <td>3.18</td>\n",
              "      <td>12.87</td>\n",
              "      <td>30.79</td>\n",
              "      <td>4.438470e+05</td>\n",
              "      <td>7.655190e+08</td>\n",
              "      <td>0.00</td>\n",
              "      <td>25.91</td>\n",
              "      <td>469</td>\n",
              "    </tr>\n",
              "    <tr>\n",
              "      <th>215</th>\n",
              "      <td>133</td>\n",
              "      <td>162</td>\n",
              "      <td>160</td>\n",
              "      <td>127</td>\n",
              "      <td>TIET11</td>\n",
              "      <td>17.44</td>\n",
              "      <td>8.04</td>\n",
              "      <td>3.72</td>\n",
              "      <td>3.357</td>\n",
              "      <td>4.87</td>\n",
              "      <td>0.724</td>\n",
              "      <td>12.64</td>\n",
              "      <td>4.04</td>\n",
              "      <td>-1.25</td>\n",
              "      <td>6.67</td>\n",
              "      <td>5.50</td>\n",
              "      <td>83.12</td>\n",
              "      <td>41.75</td>\n",
              "      <td>1.34</td>\n",
              "      <td>21.93</td>\n",
              "      <td>46.22</td>\n",
              "      <td>4.899850e+06</td>\n",
              "      <td>1.872990e+09</td>\n",
              "      <td>3.29</td>\n",
              "      <td>7.19</td>\n",
              "      <td>455</td>\n",
              "    </tr>\n",
              "    <tr>\n",
              "      <th>229</th>\n",
              "      <td>146</td>\n",
              "      <td>147</td>\n",
              "      <td>162</td>\n",
              "      <td>122</td>\n",
              "      <td>WIZS3</td>\n",
              "      <td>11.00</td>\n",
              "      <td>8.50</td>\n",
              "      <td>5.08</td>\n",
              "      <td>2.051</td>\n",
              "      <td>5.54</td>\n",
              "      <td>1.838</td>\n",
              "      <td>41.74</td>\n",
              "      <td>4.18</td>\n",
              "      <td>-7.98</td>\n",
              "      <td>3.55</td>\n",
              "      <td>3.13</td>\n",
              "      <td>49.09</td>\n",
              "      <td>24.73</td>\n",
              "      <td>1.13</td>\n",
              "      <td>67.18</td>\n",
              "      <td>59.77</td>\n",
              "      <td>3.107410e+07</td>\n",
              "      <td>3.461390e+08</td>\n",
              "      <td>0.00</td>\n",
              "      <td>17.59</td>\n",
              "      <td>455</td>\n",
              "    </tr>\n",
              "    <tr>\n",
              "      <th>269</th>\n",
              "      <td>151</td>\n",
              "      <td>141</td>\n",
              "      <td>149</td>\n",
              "      <td>103</td>\n",
              "      <td>EGIE3</td>\n",
              "      <td>39.99</td>\n",
              "      <td>11.59</td>\n",
              "      <td>4.03</td>\n",
              "      <td>2.527</td>\n",
              "      <td>6.18</td>\n",
              "      <td>0.908</td>\n",
              "      <td>10.12</td>\n",
              "      <td>5.90</td>\n",
              "      <td>-1.59</td>\n",
              "      <td>8.44</td>\n",
              "      <td>7.25</td>\n",
              "      <td>42.79</td>\n",
              "      <td>21.79</td>\n",
              "      <td>1.79</td>\n",
              "      <td>17.92</td>\n",
              "      <td>34.79</td>\n",
              "      <td>6.711100e+07</td>\n",
              "      <td>8.088960e+09</td>\n",
              "      <td>2.27</td>\n",
              "      <td>18.70</td>\n",
              "      <td>441</td>\n",
              "    </tr>\n",
              "    <tr>\n",
              "      <th>326</th>\n",
              "      <td>149</td>\n",
              "      <td>114</td>\n",
              "      <td>172</td>\n",
              "      <td>72</td>\n",
              "      <td>CGAS5</td>\n",
              "      <td>158.00</td>\n",
              "      <td>16.48</td>\n",
              "      <td>22.28</td>\n",
              "      <td>2.520</td>\n",
              "      <td>5.91</td>\n",
              "      <td>2.101</td>\n",
              "      <td>13.36</td>\n",
              "      <td>11.30</td>\n",
              "      <td>-3.75</td>\n",
              "      <td>13.96</td>\n",
              "      <td>11.48</td>\n",
              "      <td>22.30</td>\n",
              "      <td>15.29</td>\n",
              "      <td>1.84</td>\n",
              "      <td>24.24</td>\n",
              "      <td>135.22</td>\n",
              "      <td>3.069420e+05</td>\n",
              "      <td>9.397040e+08</td>\n",
              "      <td>6.58</td>\n",
              "      <td>15.02</td>\n",
              "      <td>435</td>\n",
              "    </tr>\n",
              "    <tr>\n",
              "      <th>304</th>\n",
              "      <td>110</td>\n",
              "      <td>157</td>\n",
              "      <td>168</td>\n",
              "      <td>84</td>\n",
              "      <td>ATOM3</td>\n",
              "      <td>8.70</td>\n",
              "      <td>14.06</td>\n",
              "      <td>11.73</td>\n",
              "      <td>4.992</td>\n",
              "      <td>3.45</td>\n",
              "      <td>5.684</td>\n",
              "      <td>7.65</td>\n",
              "      <td>14.30</td>\n",
              "      <td>12.19</td>\n",
              "      <td>13.17</td>\n",
              "      <td>13.10</td>\n",
              "      <td>34.92</td>\n",
              "      <td>35.50</td>\n",
              "      <td>4.12</td>\n",
              "      <td>73.03</td>\n",
              "      <td>83.41</td>\n",
              "      <td>5.361240e+06</td>\n",
              "      <td>1.550100e+07</td>\n",
              "      <td>0.00</td>\n",
              "      <td>85.17</td>\n",
              "      <td>435</td>\n",
              "    </tr>\n",
              "    <tr>\n",
              "      <th>136</th>\n",
              "      <td>173</td>\n",
              "      <td>139</td>\n",
              "      <td>118</td>\n",
              "      <td>171</td>\n",
              "      <td>CPLE6</td>\n",
              "      <td>5.94</td>\n",
              "      <td>3.89</td>\n",
              "      <td>0.84</td>\n",
              "      <td>0.835</td>\n",
              "      <td>16.30</td>\n",
              "      <td>0.344</td>\n",
              "      <td>13.22</td>\n",
              "      <td>3.69</td>\n",
              "      <td>-1.00</td>\n",
              "      <td>5.22</td>\n",
              "      <td>4.26</td>\n",
              "      <td>22.62</td>\n",
              "      <td>21.55</td>\n",
              "      <td>1.12</td>\n",
              "      <td>10.42</td>\n",
              "      <td>21.72</td>\n",
              "      <td>8.638380e+07</td>\n",
              "      <td>1.923750e+10</td>\n",
              "      <td>0.50</td>\n",
              "      <td>9.60</td>\n",
              "      <td>430</td>\n",
              "    </tr>\n",
              "    <tr>\n",
              "      <th>335</th>\n",
              "      <td>158</td>\n",
              "      <td>140</td>\n",
              "      <td>128</td>\n",
              "      <td>69</td>\n",
              "      <td>QUAL3</td>\n",
              "      <td>26.65</td>\n",
              "      <td>17.35</td>\n",
              "      <td>4.20</td>\n",
              "      <td>3.699</td>\n",
              "      <td>8.62</td>\n",
              "      <td>1.722</td>\n",
              "      <td>12.18</td>\n",
              "      <td>9.01</td>\n",
              "      <td>-8.05</td>\n",
              "      <td>9.58</td>\n",
              "      <td>6.71</td>\n",
              "      <td>41.07</td>\n",
              "      <td>21.58</td>\n",
              "      <td>1.60</td>\n",
              "      <td>29.22</td>\n",
              "      <td>24.23</td>\n",
              "      <td>7.990530e+07</td>\n",
              "      <td>1.800050e+09</td>\n",
              "      <td>0.74</td>\n",
              "      <td>0.25</td>\n",
              "      <td>426</td>\n",
              "    </tr>\n",
              "    <tr>\n",
              "      <th>259</th>\n",
              "      <td>148</td>\n",
              "      <td>142</td>\n",
              "      <td>133</td>\n",
              "      <td>108</td>\n",
              "      <td>VALE3</td>\n",
              "      <td>113.46</td>\n",
              "      <td>10.65</td>\n",
              "      <td>2.89</td>\n",
              "      <td>2.432</td>\n",
              "      <td>5.88</td>\n",
              "      <td>1.210</td>\n",
              "      <td>9.27</td>\n",
              "      <td>4.32</td>\n",
              "      <td>-3.71</td>\n",
              "      <td>4.35</td>\n",
              "      <td>3.88</td>\n",
              "      <td>56.34</td>\n",
              "      <td>22.08</td>\n",
              "      <td>1.96</td>\n",
              "      <td>34.35</td>\n",
              "      <td>27.13</td>\n",
              "      <td>2.592880e+09</td>\n",
              "      <td>2.074870e+11</td>\n",
              "      <td>0.38</td>\n",
              "      <td>23.67</td>\n",
              "      <td>423</td>\n",
              "    </tr>\n",
              "    <tr>\n",
              "      <th>180</th>\n",
              "      <td>128</td>\n",
              "      <td>167</td>\n",
              "      <td>114</td>\n",
              "      <td>144</td>\n",
              "      <td>JHSF3</td>\n",
              "      <td>7.53</td>\n",
              "      <td>6.34</td>\n",
              "      <td>1.32</td>\n",
              "      <td>3.735</td>\n",
              "      <td>4.65</td>\n",
              "      <td>0.681</td>\n",
              "      <td>4.45</td>\n",
              "      <td>6.27</td>\n",
              "      <td>-3.28</td>\n",
              "      <td>6.84</td>\n",
              "      <td>6.56</td>\n",
              "      <td>59.54</td>\n",
              "      <td>58.42</td>\n",
              "      <td>2.35</td>\n",
              "      <td>13.01</td>\n",
              "      <td>20.79</td>\n",
              "      <td>4.105250e+07</td>\n",
              "      <td>3.933220e+09</td>\n",
              "      <td>0.42</td>\n",
              "      <td>40.08</td>\n",
              "      <td>409</td>\n",
              "    </tr>\n",
              "    <tr>\n",
              "      <th>337</th>\n",
              "      <td>123</td>\n",
              "      <td>143</td>\n",
              "      <td>141</td>\n",
              "      <td>67</td>\n",
              "      <td>ODPV3</td>\n",
              "      <td>13.15</td>\n",
              "      <td>17.70</td>\n",
              "      <td>5.39</td>\n",
              "      <td>3.966</td>\n",
              "      <td>4.43</td>\n",
              "      <td>3.438</td>\n",
              "      <td>12.68</td>\n",
              "      <td>11.19</td>\n",
              "      <td>18.73</td>\n",
              "      <td>9.83</td>\n",
              "      <td>9.45</td>\n",
              "      <td>35.45</td>\n",
              "      <td>22.37</td>\n",
              "      <td>1.99</td>\n",
              "      <td>53.73</td>\n",
              "      <td>30.46</td>\n",
              "      <td>1.546100e+07</td>\n",
              "      <td>1.295490e+09</td>\n",
              "      <td>0.00</td>\n",
              "      <td>7.21</td>\n",
              "      <td>407</td>\n",
              "    </tr>\n",
              "    <tr>\n",
              "      <th>378</th>\n",
              "      <td>136</td>\n",
              "      <td>163</td>\n",
              "      <td>102</td>\n",
              "      <td>55</td>\n",
              "      <td>B3SA3</td>\n",
              "      <td>17.58</td>\n",
              "      <td>24.57</td>\n",
              "      <td>4.42</td>\n",
              "      <td>10.968</td>\n",
              "      <td>4.96</td>\n",
              "      <td>2.331</td>\n",
              "      <td>14.60</td>\n",
              "      <td>17.63</td>\n",
              "      <td>-21.74</td>\n",
              "      <td>16.23</td>\n",
              "      <td>13.86</td>\n",
              "      <td>62.21</td>\n",
              "      <td>44.62</td>\n",
              "      <td>1.78</td>\n",
              "      <td>20.08</td>\n",
              "      <td>18.00</td>\n",
              "      <td>6.757170e+08</td>\n",
              "      <td>2.434580e+10</td>\n",
              "      <td>0.29</td>\n",
              "      <td>40.18</td>\n",
              "      <td>401</td>\n",
              "    </tr>\n",
              "    <tr>\n",
              "      <th>153</th>\n",
              "      <td>130</td>\n",
              "      <td>118</td>\n",
              "      <td>153</td>\n",
              "      <td>161</td>\n",
              "      <td>RAPT3</td>\n",
              "      <td>12.63</td>\n",
              "      <td>5.49</td>\n",
              "      <td>2.00</td>\n",
              "      <td>0.715</td>\n",
              "      <td>4.81</td>\n",
              "      <td>0.460</td>\n",
              "      <td>1.59</td>\n",
              "      <td>5.66</td>\n",
              "      <td>-4.68</td>\n",
              "      <td>7.85</td>\n",
              "      <td>6.28</td>\n",
              "      <td>12.64</td>\n",
              "      <td>16.47</td>\n",
              "      <td>1.93</td>\n",
              "      <td>12.41</td>\n",
              "      <td>36.45</td>\n",
              "      <td>2.842090e+05</td>\n",
              "      <td>2.183370e+09</td>\n",
              "      <td>1.81</td>\n",
              "      <td>25.34</td>\n",
              "      <td>401</td>\n",
              "    </tr>\n",
              "    <tr>\n",
              "      <th>234</th>\n",
              "      <td>168</td>\n",
              "      <td>92</td>\n",
              "      <td>129</td>\n",
              "      <td>119</td>\n",
              "      <td>CPFE3</td>\n",
              "      <td>28.00</td>\n",
              "      <td>8.72</td>\n",
              "      <td>2.17</td>\n",
              "      <td>1.011</td>\n",
              "      <td>11.80</td>\n",
              "      <td>0.620</td>\n",
              "      <td>-194.99</td>\n",
              "      <td>5.93</td>\n",
              "      <td>-1.44</td>\n",
              "      <td>8.49</td>\n",
              "      <td>6.77</td>\n",
              "      <td>17.06</td>\n",
              "      <td>11.80</td>\n",
              "      <td>0.99</td>\n",
              "      <td>12.55</td>\n",
              "      <td>24.88</td>\n",
              "      <td>6.957270e+07</td>\n",
              "      <td>1.486780e+10</td>\n",
              "      <td>1.31</td>\n",
              "      <td>10.31</td>\n",
              "      <td>389</td>\n",
              "    </tr>\n",
              "    <tr>\n",
              "      <th>183</th>\n",
              "      <td>67</td>\n",
              "      <td>154</td>\n",
              "      <td>166</td>\n",
              "      <td>141</td>\n",
              "      <td>CSNA3</td>\n",
              "      <td>48.41</td>\n",
              "      <td>6.46</td>\n",
              "      <td>4.67</td>\n",
              "      <td>1.833</td>\n",
              "      <td>1.35</td>\n",
              "      <td>0.964</td>\n",
              "      <td>5.08</td>\n",
              "      <td>5.25</td>\n",
              "      <td>-2.97</td>\n",
              "      <td>6.49</td>\n",
              "      <td>5.41</td>\n",
              "      <td>34.93</td>\n",
              "      <td>30.84</td>\n",
              "      <td>1.80</td>\n",
              "      <td>28.24</td>\n",
              "      <td>72.25</td>\n",
              "      <td>5.707760e+08</td>\n",
              "      <td>1.438750e+10</td>\n",
              "      <td>2.37</td>\n",
              "      <td>18.64</td>\n",
              "      <td>387</td>\n",
              "    </tr>\n",
              "    <tr>\n",
              "      <th>235</th>\n",
              "      <td>121</td>\n",
              "      <td>126</td>\n",
              "      <td>134</td>\n",
              "      <td>118</td>\n",
              "      <td>EQTL3</td>\n",
              "      <td>25.24</td>\n",
              "      <td>8.83</td>\n",
              "      <td>2.51</td>\n",
              "      <td>1.431</td>\n",
              "      <td>4.12</td>\n",
              "      <td>0.603</td>\n",
              "      <td>3.61</td>\n",
              "      <td>5.34</td>\n",
              "      <td>-1.59</td>\n",
              "      <td>7.49</td>\n",
              "      <td>6.51</td>\n",
              "      <td>26.80</td>\n",
              "      <td>19.00</td>\n",
              "      <td>2.00</td>\n",
              "      <td>14.15</td>\n",
              "      <td>28.37</td>\n",
              "      <td>1.888350e+08</td>\n",
              "      <td>1.017960e+10</td>\n",
              "      <td>1.68</td>\n",
              "      <td>26.43</td>\n",
              "      <td>381</td>\n",
              "    </tr>\n",
              "    <tr>\n",
              "      <th>315</th>\n",
              "      <td>134</td>\n",
              "      <td>107</td>\n",
              "      <td>138</td>\n",
              "      <td>80</td>\n",
              "      <td>REDE3</td>\n",
              "      <td>8.40</td>\n",
              "      <td>15.25</td>\n",
              "      <td>4.53</td>\n",
              "      <td>1.488</td>\n",
              "      <td>4.88</td>\n",
              "      <td>0.848</td>\n",
              "      <td>7.13</td>\n",
              "      <td>8.02</td>\n",
              "      <td>-2.09</td>\n",
              "      <td>10.77</td>\n",
              "      <td>8.37</td>\n",
              "      <td>18.56</td>\n",
              "      <td>13.39</td>\n",
              "      <td>1.55</td>\n",
              "      <td>12.91</td>\n",
              "      <td>29.70</td>\n",
              "      <td>2.664200e+05</td>\n",
              "      <td>3.913600e+09</td>\n",
              "      <td>2.26</td>\n",
              "      <td>10.51</td>\n",
              "      <td>379</td>\n",
              "    </tr>\n",
              "    <tr>\n",
              "      <th>158</th>\n",
              "      <td>142</td>\n",
              "      <td>98</td>\n",
              "      <td>135</td>\n",
              "      <td>159</td>\n",
              "      <td>SULA4</td>\n",
              "      <td>10.23</td>\n",
              "      <td>5.63</td>\n",
              "      <td>1.62</td>\n",
              "      <td>0.701</td>\n",
              "      <td>5.42</td>\n",
              "      <td>0.471</td>\n",
              "      <td>1.17</td>\n",
              "      <td>12.29</td>\n",
              "      <td>-26.10</td>\n",
              "      <td>-1.86</td>\n",
              "      <td>-1.68</td>\n",
              "      <td>5.71</td>\n",
              "      <td>12.46</td>\n",
              "      <td>2.39</td>\n",
              "      <td>10.07</td>\n",
              "      <td>28.87</td>\n",
              "      <td>5.222080e+05</td>\n",
              "      <td>8.042800e+09</td>\n",
              "      <td>0.27</td>\n",
              "      <td>4.31</td>\n",
              "      <td>375</td>\n",
              "    </tr>\n",
              "    <tr>\n",
              "      <th>156</th>\n",
              "      <td>126</td>\n",
              "      <td>120</td>\n",
              "      <td>126</td>\n",
              "      <td>160</td>\n",
              "      <td>MTSA4</td>\n",
              "      <td>40.90</td>\n",
              "      <td>5.56</td>\n",
              "      <td>1.30</td>\n",
              "      <td>0.920</td>\n",
              "      <td>4.55</td>\n",
              "      <td>0.903</td>\n",
              "      <td>1.80</td>\n",
              "      <td>7.54</td>\n",
              "      <td>1.91</td>\n",
              "      <td>6.40</td>\n",
              "      <td>5.46</td>\n",
              "      <td>12.20</td>\n",
              "      <td>16.54</td>\n",
              "      <td>2.83</td>\n",
              "      <td>17.17</td>\n",
              "      <td>23.32</td>\n",
              "      <td>2.176920e+05</td>\n",
              "      <td>2.881250e+08</td>\n",
              "      <td>0.18</td>\n",
              "      <td>15.03</td>\n",
              "      <td>372</td>\n",
              "    </tr>\n",
              "    <tr>\n",
              "      <th>289</th>\n",
              "      <td>154</td>\n",
              "      <td>111</td>\n",
              "      <td>105</td>\n",
              "      <td>93</td>\n",
              "      <td>ROMI3</td>\n",
              "      <td>27.26</td>\n",
              "      <td>12.95</td>\n",
              "      <td>2.40</td>\n",
              "      <td>1.941</td>\n",
              "      <td>7.05</td>\n",
              "      <td>1.125</td>\n",
              "      <td>3.75</td>\n",
              "      <td>16.93</td>\n",
              "      <td>14.35</td>\n",
              "      <td>19.28</td>\n",
              "      <td>14.56</td>\n",
              "      <td>11.47</td>\n",
              "      <td>15.01</td>\n",
              "      <td>1.97</td>\n",
              "      <td>8.51</td>\n",
              "      <td>18.51</td>\n",
              "      <td>4.722570e+07</td>\n",
              "      <td>8.339890e+08</td>\n",
              "      <td>0.63</td>\n",
              "      <td>13.60</td>\n",
              "      <td>370</td>\n",
              "    </tr>\n",
              "    <tr>\n",
              "      <th>175</th>\n",
              "      <td>160</td>\n",
              "      <td>103</td>\n",
              "      <td>106</td>\n",
              "      <td>148</td>\n",
              "      <td>CMIG4</td>\n",
              "      <td>12.40</td>\n",
              "      <td>6.28</td>\n",
              "      <td>1.17</td>\n",
              "      <td>0.799</td>\n",
              "      <td>9.31</td>\n",
              "      <td>0.396</td>\n",
              "      <td>3.74</td>\n",
              "      <td>4.24</td>\n",
              "      <td>-1.03</td>\n",
              "      <td>6.08</td>\n",
              "      <td>5.07</td>\n",
              "      <td>18.83</td>\n",
              "      <td>12.73</td>\n",
              "      <td>1.62</td>\n",
              "      <td>10.88</td>\n",
              "      <td>18.68</td>\n",
              "      <td>1.228630e+08</td>\n",
              "      <td>1.789490e+10</td>\n",
              "      <td>0.82</td>\n",
              "      <td>8.23</td>\n",
              "      <td>369</td>\n",
              "    </tr>\n",
              "    <tr>\n",
              "      <th>139</th>\n",
              "      <td>155</td>\n",
              "      <td>125</td>\n",
              "      <td>87</td>\n",
              "      <td>169</td>\n",
              "      <td>DOHL4</td>\n",
              "      <td>6.12</td>\n",
              "      <td>4.48</td>\n",
              "      <td>0.69</td>\n",
              "      <td>0.809</td>\n",
              "      <td>7.32</td>\n",
              "      <td>0.517</td>\n",
              "      <td>1.20</td>\n",
              "      <td>7.47</td>\n",
              "      <td>1.75</td>\n",
              "      <td>6.66</td>\n",
              "      <td>5.36</td>\n",
              "      <td>10.83</td>\n",
              "      <td>18.07</td>\n",
              "      <td>4.76</td>\n",
              "      <td>8.10</td>\n",
              "      <td>15.40</td>\n",
              "      <td>1.487810e+05</td>\n",
              "      <td>6.717850e+08</td>\n",
              "      <td>0.07</td>\n",
              "      <td>5.75</td>\n",
              "      <td>367</td>\n",
              "    </tr>\n",
              "    <tr>\n",
              "      <th>198</th>\n",
              "      <td>104</td>\n",
              "      <td>160</td>\n",
              "      <td>101</td>\n",
              "      <td>137</td>\n",
              "      <td>ALUP3</td>\n",
              "      <td>8.99</td>\n",
              "      <td>7.27</td>\n",
              "      <td>1.30</td>\n",
              "      <td>1.211</td>\n",
              "      <td>3.11</td>\n",
              "      <td>0.336</td>\n",
              "      <td>4.75</td>\n",
              "      <td>2.07</td>\n",
              "      <td>-0.80</td>\n",
              "      <td>3.98</td>\n",
              "      <td>3.84</td>\n",
              "      <td>58.45</td>\n",
              "      <td>35.84</td>\n",
              "      <td>1.71</td>\n",
              "      <td>17.79</td>\n",
              "      <td>17.83</td>\n",
              "      <td>1.912340e+05</td>\n",
              "      <td>6.091770e+09</td>\n",
              "      <td>1.50</td>\n",
              "      <td>49.07</td>\n",
              "      <td>365</td>\n",
              "    </tr>\n",
              "    <tr>\n",
              "      <th>290</th>\n",
              "      <td>153</td>\n",
              "      <td>94</td>\n",
              "      <td>115</td>\n",
              "      <td>92</td>\n",
              "      <td>EQPA3</td>\n",
              "      <td>4.31</td>\n",
              "      <td>12.98</td>\n",
              "      <td>2.73</td>\n",
              "      <td>1.554</td>\n",
              "      <td>6.50</td>\n",
              "      <td>0.755</td>\n",
              "      <td>3.39</td>\n",
              "      <td>6.55</td>\n",
              "      <td>-2.60</td>\n",
              "      <td>7.65</td>\n",
              "      <td>6.29</td>\n",
              "      <td>23.75</td>\n",
              "      <td>11.97</td>\n",
              "      <td>2.06</td>\n",
              "      <td>16.00</td>\n",
              "      <td>21.06</td>\n",
              "      <td>2.827210e+05</td>\n",
              "      <td>3.482100e+09</td>\n",
              "      <td>1.28</td>\n",
              "      <td>6.49</td>\n",
              "      <td>362</td>\n",
              "    </tr>\n",
              "    <tr>\n",
              "      <th>214</th>\n",
              "      <td>163</td>\n",
              "      <td>32</td>\n",
              "      <td>165</td>\n",
              "      <td>128</td>\n",
              "      <td>BEEF3</td>\n",
              "      <td>9.84</td>\n",
              "      <td>7.89</td>\n",
              "      <td>5.33</td>\n",
              "      <td>0.257</td>\n",
              "      <td>10.46</td>\n",
              "      <td>0.297</td>\n",
              "      <td>0.92</td>\n",
              "      <td>2.82</td>\n",
              "      <td>-1.12</td>\n",
              "      <td>5.63</td>\n",
              "      <td>4.83</td>\n",
              "      <td>9.12</td>\n",
              "      <td>3.26</td>\n",
              "      <td>1.90</td>\n",
              "      <td>20.58</td>\n",
              "      <td>67.61</td>\n",
              "      <td>1.096030e+08</td>\n",
              "      <td>1.013840e+09</td>\n",
              "      <td>11.63</td>\n",
              "      <td>20.49</td>\n",
              "      <td>360</td>\n",
              "    </tr>\n",
              "    <tr>\n",
              "      <th>244</th>\n",
              "      <td>87</td>\n",
              "      <td>122</td>\n",
              "      <td>151</td>\n",
              "      <td>115</td>\n",
              "      <td>UNIP3</td>\n",
              "      <td>75.97</td>\n",
              "      <td>9.73</td>\n",
              "      <td>3.46</td>\n",
              "      <td>1.637</td>\n",
              "      <td>2.42</td>\n",
              "      <td>1.482</td>\n",
              "      <td>6.98</td>\n",
              "      <td>5.72</td>\n",
              "      <td>-12.63</td>\n",
              "      <td>5.33</td>\n",
              "      <td>4.59</td>\n",
              "      <td>28.63</td>\n",
              "      <td>17.01</td>\n",
              "      <td>1.89</td>\n",
              "      <td>36.26</td>\n",
              "      <td>35.55</td>\n",
              "      <td>2.179990e+06</td>\n",
              "      <td>2.074060e+09</td>\n",
              "      <td>0.27</td>\n",
              "      <td>25.71</td>\n",
              "      <td>360</td>\n",
              "    </tr>\n",
              "    <tr>\n",
              "      <th>206</th>\n",
              "      <td>171</td>\n",
              "      <td>116</td>\n",
              "      <td>67</td>\n",
              "      <td>132</td>\n",
              "      <td>CSMG3</td>\n",
              "      <td>17.44</td>\n",
              "      <td>7.58</td>\n",
              "      <td>1.00</td>\n",
              "      <td>1.219</td>\n",
              "      <td>16.14</td>\n",
              "      <td>0.559</td>\n",
              "      <td>15.25</td>\n",
              "      <td>4.94</td>\n",
              "      <td>-2.14</td>\n",
              "      <td>6.93</td>\n",
              "      <td>4.66</td>\n",
              "      <td>24.67</td>\n",
              "      <td>16.09</td>\n",
              "      <td>1.25</td>\n",
              "      <td>12.51</td>\n",
              "      <td>13.24</td>\n",
              "      <td>4.016860e+07</td>\n",
              "      <td>6.611550e+09</td>\n",
              "      <td>0.55</td>\n",
              "      <td>7.81</td>\n",
              "      <td>354</td>\n",
              "    </tr>\n",
              "  </tbody>\n",
              "</table>\n",
              "</div>"
            ],
            "text/plain": [
              "     score_Div_Yield  score_Margem_Liq  ...  CrescRec5a  score_total\n",
              "159              167               168  ...       32.43          492\n",
              "149              170               165  ...       10.74          480\n",
              "151              169               171  ...        6.49          470\n",
              "303              161               166  ...       25.91          469\n",
              "215              133               162  ...        7.19          455\n",
              "229              146               147  ...       17.59          455\n",
              "269              151               141  ...       18.70          441\n",
              "326              149               114  ...       15.02          435\n",
              "304              110               157  ...       85.17          435\n",
              "136              173               139  ...        9.60          430\n",
              "335              158               140  ...        0.25          426\n",
              "259              148               142  ...       23.67          423\n",
              "180              128               167  ...       40.08          409\n",
              "337              123               143  ...        7.21          407\n",
              "378              136               163  ...       40.18          401\n",
              "153              130               118  ...       25.34          401\n",
              "234              168                92  ...       10.31          389\n",
              "183               67               154  ...       18.64          387\n",
              "235              121               126  ...       26.43          381\n",
              "315              134               107  ...       10.51          379\n",
              "158              142                98  ...        4.31          375\n",
              "156              126               120  ...       15.03          372\n",
              "289              154               111  ...       13.60          370\n",
              "175              160               103  ...        8.23          369\n",
              "139              155               125  ...        5.75          367\n",
              "198              104               160  ...       49.07          365\n",
              "290              153                94  ...        6.49          362\n",
              "214              163                32  ...       20.49          360\n",
              "244               87               122  ...       25.71          360\n",
              "206              171               116  ...        7.81          354\n",
              "\n",
              "[30 rows x 26 columns]"
            ]
          },
          "metadata": {
            "tags": []
          },
          "execution_count": 13
        }
      ]
    }
  ]
}